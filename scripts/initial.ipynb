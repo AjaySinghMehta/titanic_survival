{
 "cells": [
  {
   "cell_type": "code",
   "execution_count": 13,
   "metadata": {},
   "outputs": [],
   "source": [
    "from __future__ import absolute_import, division, print_function, unicode_literals\n",
    "import pandas as pd\n",
    "import numpy as np \n",
    "from IPython.display import clear_output \n",
    "from six.moves import urllib\n",
    "import tensorflow as tf\n",
    "import tensorflow.compat.v2.feature_column as fc\n",
    "\n"
   ]
  },
  {
   "cell_type": "code",
   "execution_count": 14,
   "metadata": {},
   "outputs": [],
   "source": [
    "dftrain = pd.read_csv('G:/projects/tensorflow/data/train.csv') #importing training data\n",
    "dfeval = pd.read_csv('G:/projects/tensorflow/data/eval.csv')   #importing testing data\n",
    "# print(dftrain.head())    #prints the first 5 elements of the dftrain dataset\n",
    "# print(dfeval.head())     #prints the first 5 values of the dfeval dataset\n",
    "y_train = dftrain.pop('survived')     #this statemnet pops the survived column from dftrain dataset and store it in y_train variable which also is our training label\n",
    "y_eval = dfeval.pop('survived')       #this statemnet pops the survived column from dfeval dataset and store it in y_eval variable which also is our testing label"
   ]
  },
  {
   "cell_type": "code",
   "execution_count": 15,
   "metadata": {},
   "outputs": [],
   "source": [
    "# print(dftrain.loc[0],y_train.loc[0]) #loc prints the rows which ever you wish to such as we print a element in array\n",
    "# print(dftrain[\"age\"])  #printing a specific column we need to name the column name and we are good to go \n",
    "# dftrain.head() #prints the first 5 entries of the dataset\n",
    "# dftrain.describe()      # this describes the number of entries and their mean standard deviation and all that stuff\n"
   ]
  },
  {
   "cell_type": "code",
   "execution_count": 16,
   "metadata": {},
   "outputs": [],
   "source": [
    "# dftrain.age.hist(bins=20) # ploting a histogram which shows 20 elements\n",
    "# dftrain.sex.value_counts().plot(kind='barh')  # this statement prints the value of male and female"
   ]
  },
  {
   "cell_type": "code",
   "execution_count": 17,
   "metadata": {},
   "outputs": [],
   "source": [
    "# dftrain[\"class\"].value_counts().plot(kind ='barh')"
   ]
  },
  {
   "cell_type": "code",
   "execution_count": 18,
   "metadata": {},
   "outputs": [],
   "source": [
    "# pd.concat([dftrain,y_train],axis =1).groupby('sex').survived.mean().plot(kind='barh').set_xlabel('% survive') #this tells the survial rate according to whatever standard you choose her i chose class and age \n",
    "# dftrain.head()"
   ]
  },
  {
   "cell_type": "code",
   "execution_count": 63,
   "metadata": {},
   "outputs": [],
   "source": [
    "\n",
    "\n",
    "\n",
    "feature_columns = []\n",
    "CATEGORICAL_COLUMNS = ['class','deck','embark_town','alone','n_siblings_spouses','parch','sex']\n",
    "NUMERIC_COLUMNS = ['fare','age']\n",
    "for feature_name in CATEGORICAL_COLUMNS:\n",
    "    vocabulary = dftrain[feature_name].unique() #gets a list of all unique values from given feature column\n",
    "    feature_columns.append(tf.feature_column.categorical_column_with_vocabulary_list(feature_name , vocabulary))\n",
    "for feature_name in NUMERIC_COLUMNS:\n",
    "    feature_columns.append(tf.feature_column.numeric_column(feature_name , dtype=tf.float32))\n",
    "\n",
    "# print(feature_columns) \n",
    "# dftrain['embark_town'].unique() # points out the unique value from whichever column we want to"
   ]
  },
  {
   "cell_type": "code",
   "execution_count": 20,
   "metadata": {},
   "outputs": [],
   "source": [
    "def make_input_fn(data_df, label_df, num_epochs = 10, shuffle = True, batch_size = 32):\n",
    "    def input_function(): # inner fucntion, this willl be returned\n",
    "        ds = tf.data.Dataset.from_tensor_slices((dict(data_df),label_df))  #create tf object with data and its label\n",
    "        if shuffle:\n",
    "            ds = ds.shuffle(1000) # randomizes order of data\n",
    "        ds = ds.batch(batch_size).repeat(num_epochs) #split dataset into batches of 32 and repeat process for number of epochs\n",
    "        return ds #return a batch of the dataset\n",
    "    return input_function # return a function object for use\n",
    "\n",
    "train_input_fn = make_input_fn(dftrain, y_train)  #function call \n",
    "eval_input_fn = make_input_fn(dfeval, y_eval, num_epochs =1, shuffle = False)"
   ]
  },
  {
   "cell_type": "code",
   "execution_count": 64,
   "metadata": {},
   "outputs": [
    {
     "name": "stdout",
     "output_type": "stream",
     "text": [
      "INFO:tensorflow:Using default config.\n",
      "WARNING:tensorflow:Using temporary folder as model directory: C:\\Users\\ajaym\\AppData\\Local\\Temp\\tmp8y7wp11h\n",
      "INFO:tensorflow:Using config: {'_model_dir': 'C:\\\\Users\\\\ajaym\\\\AppData\\\\Local\\\\Temp\\\\tmp8y7wp11h', '_tf_random_seed': None, '_save_summary_steps': 100, '_save_checkpoints_steps': None, '_save_checkpoints_secs': 600, '_session_config': allow_soft_placement: true\n",
      "graph_options {\n",
      "  rewrite_options {\n",
      "    meta_optimizer_iterations: ONE\n",
      "  }\n",
      "}\n",
      ", '_keep_checkpoint_max': 5, '_keep_checkpoint_every_n_hours': 10000, '_log_step_count_steps': 100, '_train_distribute': None, '_device_fn': None, '_protocol': None, '_eval_distribute': None, '_experimental_distribute': None, '_experimental_max_worker_delay_secs': None, '_session_creation_timeout_secs': 7200, '_checkpoint_save_graph_def': True, '_service': None, '_cluster_spec': ClusterSpec({}), '_task_type': 'worker', '_task_id': 0, '_global_id_in_cluster': 0, '_master': '', '_evaluation_master': '', '_is_chief': True, '_num_ps_replicas': 0, '_num_worker_replicas': 1}\n"
     ]
    }
   ],
   "source": [
    "linear_est = tf.estimator.LinearClassifier(feature_columns = feature_columns) \n",
    "#we create a linear estimator by passing a feature_columns as argument"
   ]
  },
  {
   "cell_type": "code",
   "execution_count": 36,
   "metadata": {},
   "outputs": [
    {
     "name": "stdout",
     "output_type": "stream",
     "text": [
      "0.78409094\n"
     ]
    }
   ],
   "source": [
    "linear_est.train(train_input_fn)  #training\n",
    "result = linear_est.evaluate(eval_input_fn) #stores the stats after evaluating/ testing the model  \n",
    "\n",
    "clear_output()\n",
    "print(result['accuracy'])"
   ]
  },
  {
   "cell_type": "code",
   "execution_count": 62,
   "metadata": {},
   "outputs": [
    {
     "name": "stdout",
     "output_type": "stream",
     "text": [
      "INFO:tensorflow:Calling model_fn.\n",
      "INFO:tensorflow:Done calling model_fn.\n",
      "INFO:tensorflow:Graph was finalized.\n",
      "INFO:tensorflow:Restoring parameters from C:\\Users\\ajaym\\AppData\\Local\\Temp\\tmppjz8p_0k\\model.ckpt-1400\n",
      "INFO:tensorflow:Running local_init_op.\n",
      "INFO:tensorflow:Done running local_init_op.\n",
      "sex                        female\n",
      "age                          29.0\n",
      "n_siblings_spouses              0\n",
      "parch                           0\n",
      "fare                         10.5\n",
      "class                      Second\n",
      "deck                            F\n",
      "embark_town           Southampton\n",
      "alone                           y\n",
      "Name: 14, dtype: object 1\n",
      "survival chance : 1\n"
     ]
    }
   ],
   "source": [
    "result = list(linear_est.predict(eval_input_fn))\n",
    "print(dfeval.loc[14],y_eval.loc[14])\n",
    "def result_function(percentage):\n",
    "    if percentage>50.:\n",
    "        print(\"survival chance : 1\")\n",
    "    else:\n",
    "        print(\"survival chance : 0\")\n",
    "result_function((result[14]['probabilities'][1])*100)\n",
    "    "
   ]
  },
  {
   "cell_type": "code",
   "execution_count": null,
   "metadata": {},
   "outputs": [],
   "source": []
  }
 ],
 "metadata": {
  "kernelspec": {
   "display_name": "Python 3.10.6 64-bit",
   "language": "python",
   "name": "python3"
  },
  "language_info": {
   "codemirror_mode": {
    "name": "ipython",
    "version": 3
   },
   "file_extension": ".py",
   "mimetype": "text/x-python",
   "name": "python",
   "nbconvert_exporter": "python",
   "pygments_lexer": "ipython3",
   "version": "3.10.6"
  },
  "orig_nbformat": 4,
  "vscode": {
   "interpreter": {
    "hash": "fbe58ca63fe33f9eeae9e71d10368d2b4a57f2b1b395836210cc60d362c66949"
   }
  }
 },
 "nbformat": 4,
 "nbformat_minor": 2
}
