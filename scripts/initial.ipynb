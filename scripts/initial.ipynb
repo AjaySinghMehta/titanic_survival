{
 "cells": [
  {
   "cell_type": "code",
   "execution_count": 4,
   "metadata": {},
   "outputs": [],
   "source": [
    "from __future__ import absolute_import, division, print_function, unicode_literals\n",
    "import pandas as pd\n",
    "import numpy as np \n",
    "from IPython.display import clear_output \n",
    "from six.moves import urllib\n",
    "import tensorflow as tf\n",
    "import tensorflow.compat.v2.feature_column as fc\n",
    "\n"
   ]
  },
  {
   "cell_type": "code",
   "execution_count": 15,
   "metadata": {},
   "outputs": [],
   "source": [
    "dftrain = pd.read_csv('G:/projects/tensorflow/data/train.csv') #importing training data\n",
    "dfeval = pd.read_csv('G:/projects/tensorflow/data/eval.csv')   #importing testing data\n",
    "# print(dftrain.head())    #prints the first 5 elements of the dftrain dataset\n",
    "# print(dfeval.head())     #prints the first 5 values of the dfeval dataset\n",
    "y_train = dftrain.pop('survived')     #this statemnet pops the survived column from dftrain dataset and store it in y_train variable\n",
    "y_eval = dfeval.pop('survived')       #this statemnet pops the survived column from dfeval dataset and store it in y_eval variable"
   ]
  },
  {
   "cell_type": "code",
   "execution_count": null,
   "metadata": {},
   "outputs": [],
   "source": []
  }
 ],
 "metadata": {
  "kernelspec": {
   "display_name": "Python 3.10.6 64-bit",
   "language": "python",
   "name": "python3"
  },
  "language_info": {
   "codemirror_mode": {
    "name": "ipython",
    "version": 3
   },
   "file_extension": ".py",
   "mimetype": "text/x-python",
   "name": "python",
   "nbconvert_exporter": "python",
   "pygments_lexer": "ipython3",
   "version": "3.10.6"
  },
  "orig_nbformat": 4,
  "vscode": {
   "interpreter": {
    "hash": "fbe58ca63fe33f9eeae9e71d10368d2b4a57f2b1b395836210cc60d362c66949"
   }
  }
 },
 "nbformat": 4,
 "nbformat_minor": 2
}
