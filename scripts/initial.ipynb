{
 "cells": [
  {
   "cell_type": "code",
   "execution_count": 4,
   "metadata": {},
   "outputs": [],
   "source": [
    "from __future__ import absolute_import, division, print_function, unicode_literals\n",
    "import pandas as pd\n",
    "import numpy as np \n",
    "from IPython.display import clear_output \n",
    "from six.moves import urllib\n",
    "import tensorflow as tf\n",
    "import tensorflow.compat.v2.feature_column as fc\n",
    "\n"
   ]
  },
  {
   "cell_type": "code",
   "execution_count": 15,
   "metadata": {},
   "outputs": [],
   "source": [
    "dftrain = pd.read_csv('G:/projects/tensorflow/data/train.csv') #importing training data\n",
    "dfeval = pd.read_csv('G:/projects/tensorflow/data/eval.csv')   #importing testing data\n",
    "# print(dftrain.head())    #prints the first 5 elements of the dftrain dataset\n",
    "# print(dfeval.head())     #prints the first 5 values of the dfeval dataset\n",
    "y_train = dftrain.pop('survived')     #this statemnet pops the survived column from dftrain dataset and store it in y_train variable which also is our training label\n",
    "y_eval = dfeval.pop('survived')       #this statemnet pops the survived column from dfeval dataset and store it in y_eval variable which also is our testing label"
   ]
  },
  {
   "cell_type": "code",
   "execution_count": 26,
   "metadata": {},
   "outputs": [],
   "source": [
    "# print(dftrain.loc[0],y_train.loc[0]) #loc prints the rows which ever you wish to such as we print a element in array\n",
    "# print(dftrain[\"age\"])  #printing a specific column we need to name the column name and we are good to go \n",
    "# dftrain.head() #prints the first 5 entries of the dataset\n",
    "# dftrain.describe()      # this describes the number of entries and their mean standard deviation and all that stuff\n"
   ]
  },
  {
   "cell_type": "code",
   "execution_count": 85,
   "metadata": {},
   "outputs": [],
   "source": [
    "# dftrain.age.hist(bins=20) # ploting a histogram which shows 20 elements\n",
    "# dftrain.sex.value_counts().plot(kind='barh')  # this statement prints the value of male and female"
   ]
  },
  {
   "cell_type": "code",
   "execution_count": 84,
   "metadata": {},
   "outputs": [],
   "source": [
    "# dftrain[\"class\"].value_counts().plot(kind ='barh')"
   ]
  },
  {
   "cell_type": "code",
   "execution_count": 86,
   "metadata": {},
   "outputs": [],
   "source": [
    "# pd.concat([dftrain,y_train],axis =1).groupby('sex').survived.mean().plot(kind='barh').set_xlabel('% survive') #this tells the survial rate according to whatever standard you choose her i chose class and age \n",
    "# dftrain.head()"
   ]
  },
  {
   "cell_type": "code",
   "execution_count": 81,
   "metadata": {},
   "outputs": [
    {
     "data": {
      "text/plain": [
       "array(['Southampton', 'Cherbourg', 'Queenstown', 'unknown'], dtype=object)"
      ]
     },
     "execution_count": 81,
     "metadata": {},
     "output_type": "execute_result"
    }
   ],
   "source": [
    "\n",
    "\n",
    "\n",
    "feature_columns = []\n",
    "CATEGORICAL_COLUMNS = ['class','deck','embark_town','alone','n_siblings_spouses','parch','sex']\n",
    "NUMERIC_COLUMNS = ['fare','age']\n",
    "for feature_name in CATEGORICAL_COLUMNS:\n",
    "    vocabulary = dftrain[feature_name].unique() #gets a list of all unique values from given feature column\n",
    "    feature_columns.append(tf.feature_column.categorical_column_with_vocabulary_list(feature_name , vocabulary))\n",
    "for feature_name in NUMERIC_COLUMNS:\n",
    "    feature_columns.append(tf.feature_column.numeric_column(feature_name , dtype=tf.float32))\n",
    "\n",
    "print(feature_columns) \n",
    "# dftrain['embark_town'].unique() # points out the unique value from whichever column we want to"
   ]
  },
  {
   "cell_type": "code",
   "execution_count": 83,
   "metadata": {},
   "outputs": [],
   "source": [
    "def make_input_fn(data_df, label_df, num_epochs = 10, shuffle = True, batch_size = 32):\n",
    "    def input_function(): # inner fucntion, this willl be returned\n",
    "        ds = tf.data.Dataset.from_tensor_slices((dict(data_df),label_df))  #create tf object with data and its label\n",
    "        if shuffle:\n",
    "            ds = ds.shuffle(1000) # randomizes order of data\n",
    "        ds = ds.batch(batch_size).repeat(num_epochs) #split dataset into batches of 32 and repeat process for number of epochs\n",
    "        return ds #return a batch of the dataset\n",
    "    return input_function # return a function object for use\n",
    "\n",
    "train_input_fn = make_input_fn(dftrain, y_train)  #function call \n",
    "eval_input_fn = make_input_fn(dfeval, y_eval, num_epochs =1, shuffle = False)"
   ]
  },
  {
   "cell_type": "code",
   "execution_count": null,
   "metadata": {},
   "outputs": [],
   "source": []
  }
 ],
 "metadata": {
  "kernelspec": {
   "display_name": "Python 3.10.6 64-bit",
   "language": "python",
   "name": "python3"
  },
  "language_info": {
   "codemirror_mode": {
    "name": "ipython",
    "version": 3
   },
   "file_extension": ".py",
   "mimetype": "text/x-python",
   "name": "python",
   "nbconvert_exporter": "python",
   "pygments_lexer": "ipython3",
   "version": "3.10.6"
  },
  "orig_nbformat": 4,
  "vscode": {
   "interpreter": {
    "hash": "fbe58ca63fe33f9eeae9e71d10368d2b4a57f2b1b395836210cc60d362c66949"
   }
  }
 },
 "nbformat": 4,
 "nbformat_minor": 2
}
